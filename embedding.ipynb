{
 "cells": [
  {
   "cell_type": "code",
   "execution_count": 4,
   "metadata": {},
   "outputs": [],
   "source": [
    "from tensorflow.keras.preprocessing.text import one_hot"
   ]
  },
  {
   "cell_type": "code",
   "execution_count": 5,
   "metadata": {},
   "outputs": [],
   "source": [
    "### sentences\n",
    "sent=[  'the glass of milk',\n",
    "     'the glass of juice',\n",
    "     'the cup of tea',\n",
    "    'I am a good boy',\n",
    "     'I am a good developer',\n",
    "     'understand the meaning of words',\n",
    "     'your videos are good',]"
   ]
  },
  {
   "cell_type": "code",
   "execution_count": 6,
   "metadata": {},
   "outputs": [
    {
     "data": {
      "text/plain": [
       "['the glass of milk',\n",
       " 'the glass of juice',\n",
       " 'the cup of tea',\n",
       " 'I am a good boy',\n",
       " 'I am a good developer',\n",
       " 'understand the meaning of words',\n",
       " 'your videos are good']"
      ]
     },
     "execution_count": 6,
     "metadata": {},
     "output_type": "execute_result"
    }
   ],
   "source": [
    "sent"
   ]
  },
  {
   "cell_type": "code",
   "execution_count": 7,
   "metadata": {},
   "outputs": [],
   "source": [
    "## Define the vocabulary size\n",
    "voc_size=10000"
   ]
  },
  {
   "cell_type": "code",
   "execution_count": 8,
   "metadata": {},
   "outputs": [
    {
     "data": {
      "text/plain": [
       "['the glass of milk',\n",
       " 'the glass of juice',\n",
       " 'the cup of tea',\n",
       " 'I am a good boy',\n",
       " 'I am a good developer',\n",
       " 'understand the meaning of words',\n",
       " 'your videos are good']"
      ]
     },
     "execution_count": 8,
     "metadata": {},
     "output_type": "execute_result"
    }
   ],
   "source": [
    "sent"
   ]
  },
  {
   "cell_type": "code",
   "execution_count": 9,
   "metadata": {},
   "outputs": [
    {
     "data": {
      "text/plain": [
       "[[5613, 8042, 2619, 2811],\n",
       " [5613, 8042, 2619, 1797],\n",
       " [5613, 1493, 2619, 4519],\n",
       " [6835, 8612, 5901, 844, 7532],\n",
       " [6835, 8612, 5901, 844, 3305],\n",
       " [9591, 5613, 1511, 2619, 9903],\n",
       " [2669, 3563, 2788, 844]]"
      ]
     },
     "execution_count": 9,
     "metadata": {},
     "output_type": "execute_result"
    }
   ],
   "source": [
    "### One Hot Representation\n",
    "one_hot_repr=[one_hot(words,voc_size)for words in sent]\n",
    "one_hot_repr"
   ]
  },
  {
   "cell_type": "code",
   "execution_count": 10,
   "metadata": {},
   "outputs": [],
   "source": [
    "## word Embedding Representation\n",
    "\n",
    "from tensorflow.keras.layers import Embedding\n",
    "#from tensorflow.keras.processing.sequence import pad_sequences\n",
    "from tensorflow.keras.utils import pad_sequences\n",
    "from tensorflow.keras.models import Sequential"
   ]
  },
  {
   "cell_type": "code",
   "execution_count": 11,
   "metadata": {},
   "outputs": [],
   "source": [
    "import numpy as np"
   ]
  },
  {
   "cell_type": "code",
   "execution_count": 12,
   "metadata": {},
   "outputs": [
    {
     "name": "stdout",
     "output_type": "stream",
     "text": [
      "[[   0    0    0    0 5613 8042 2619 2811]\n",
      " [   0    0    0    0 5613 8042 2619 1797]\n",
      " [   0    0    0    0 5613 1493 2619 4519]\n",
      " [   0    0    0 6835 8612 5901  844 7532]\n",
      " [   0    0    0 6835 8612 5901  844 3305]\n",
      " [   0    0    0 9591 5613 1511 2619 9903]\n",
      " [   0    0    0    0 2669 3563 2788  844]]\n"
     ]
    }
   ],
   "source": [
    "sent_length=8\n",
    "embedded_docs=pad_sequences(one_hot_repr,padding='pre',maxlen=sent_length)\n",
    "print(embedded_docs)"
   ]
  },
  {
   "cell_type": "code",
   "execution_count": 13,
   "metadata": {},
   "outputs": [],
   "source": [
    "## feature representation\n",
    "dim=10"
   ]
  },
  {
   "cell_type": "code",
   "execution_count": 14,
   "metadata": {},
   "outputs": [
    {
     "name": "stderr",
     "output_type": "stream",
     "text": [
      "c:\\GenAI_udemy\\simple_rnn_imdb\\venv_RNN\\Lib\\site-packages\\keras\\src\\layers\\core\\embedding.py:90: UserWarning: Argument `input_length` is deprecated. Just remove it.\n",
      "  warnings.warn(\n"
     ]
    }
   ],
   "source": [
    "model=Sequential()\n",
    "model.add(Embedding(voc_size,dim,input_length=sent_length))\n",
    "model.compile('adam','mse')"
   ]
  },
  {
   "cell_type": "code",
   "execution_count": 15,
   "metadata": {},
   "outputs": [
    {
     "data": {
      "text/html": [
       "<pre style=\"white-space:pre;overflow-x:auto;line-height:normal;font-family:Menlo,'DejaVu Sans Mono',consolas,'Courier New',monospace\"><span style=\"font-weight: bold\">Model: \"sequential\"</span>\n",
       "</pre>\n"
      ],
      "text/plain": [
       "\u001b[1mModel: \"sequential\"\u001b[0m\n"
      ]
     },
     "metadata": {},
     "output_type": "display_data"
    },
    {
     "data": {
      "text/html": [
       "<pre style=\"white-space:pre;overflow-x:auto;line-height:normal;font-family:Menlo,'DejaVu Sans Mono',consolas,'Courier New',monospace\">┏━━━━━━━━━━━━━━━━━━━━━━━━━━━━━━━━━┳━━━━━━━━━━━━━━━━━━━━━━━━┳━━━━━━━━━━━━━━━┓\n",
       "┃<span style=\"font-weight: bold\"> Layer (type)                    </span>┃<span style=\"font-weight: bold\"> Output Shape           </span>┃<span style=\"font-weight: bold\">       Param # </span>┃\n",
       "┡━━━━━━━━━━━━━━━━━━━━━━━━━━━━━━━━━╇━━━━━━━━━━━━━━━━━━━━━━━━╇━━━━━━━━━━━━━━━┩\n",
       "│ embedding (<span style=\"color: #0087ff; text-decoration-color: #0087ff\">Embedding</span>)           │ ?                      │   <span style=\"color: #00af00; text-decoration-color: #00af00\">0</span> (unbuilt) │\n",
       "└─────────────────────────────────┴────────────────────────┴───────────────┘\n",
       "</pre>\n"
      ],
      "text/plain": [
       "┏━━━━━━━━━━━━━━━━━━━━━━━━━━━━━━━━━┳━━━━━━━━━━━━━━━━━━━━━━━━┳━━━━━━━━━━━━━━━┓\n",
       "┃\u001b[1m \u001b[0m\u001b[1mLayer (type)                   \u001b[0m\u001b[1m \u001b[0m┃\u001b[1m \u001b[0m\u001b[1mOutput Shape          \u001b[0m\u001b[1m \u001b[0m┃\u001b[1m \u001b[0m\u001b[1m      Param #\u001b[0m\u001b[1m \u001b[0m┃\n",
       "┡━━━━━━━━━━━━━━━━━━━━━━━━━━━━━━━━━╇━━━━━━━━━━━━━━━━━━━━━━━━╇━━━━━━━━━━━━━━━┩\n",
       "│ embedding (\u001b[38;5;33mEmbedding\u001b[0m)           │ ?                      │   \u001b[38;5;34m0\u001b[0m (unbuilt) │\n",
       "└─────────────────────────────────┴────────────────────────┴───────────────┘\n"
      ]
     },
     "metadata": {},
     "output_type": "display_data"
    },
    {
     "data": {
      "text/html": [
       "<pre style=\"white-space:pre;overflow-x:auto;line-height:normal;font-family:Menlo,'DejaVu Sans Mono',consolas,'Courier New',monospace\"><span style=\"font-weight: bold\"> Total params: </span><span style=\"color: #00af00; text-decoration-color: #00af00\">0</span> (0.00 B)\n",
       "</pre>\n"
      ],
      "text/plain": [
       "\u001b[1m Total params: \u001b[0m\u001b[38;5;34m0\u001b[0m (0.00 B)\n"
      ]
     },
     "metadata": {},
     "output_type": "display_data"
    },
    {
     "data": {
      "text/html": [
       "<pre style=\"white-space:pre;overflow-x:auto;line-height:normal;font-family:Menlo,'DejaVu Sans Mono',consolas,'Courier New',monospace\"><span style=\"font-weight: bold\"> Trainable params: </span><span style=\"color: #00af00; text-decoration-color: #00af00\">0</span> (0.00 B)\n",
       "</pre>\n"
      ],
      "text/plain": [
       "\u001b[1m Trainable params: \u001b[0m\u001b[38;5;34m0\u001b[0m (0.00 B)\n"
      ]
     },
     "metadata": {},
     "output_type": "display_data"
    },
    {
     "data": {
      "text/html": [
       "<pre style=\"white-space:pre;overflow-x:auto;line-height:normal;font-family:Menlo,'DejaVu Sans Mono',consolas,'Courier New',monospace\"><span style=\"font-weight: bold\"> Non-trainable params: </span><span style=\"color: #00af00; text-decoration-color: #00af00\">0</span> (0.00 B)\n",
       "</pre>\n"
      ],
      "text/plain": [
       "\u001b[1m Non-trainable params: \u001b[0m\u001b[38;5;34m0\u001b[0m (0.00 B)\n"
      ]
     },
     "metadata": {},
     "output_type": "display_data"
    }
   ],
   "source": [
    "model.summary()"
   ]
  },
  {
   "cell_type": "code",
   "execution_count": 16,
   "metadata": {},
   "outputs": [
    {
     "name": "stdout",
     "output_type": "stream",
     "text": [
      "\u001b[1m1/1\u001b[0m \u001b[32m━━━━━━━━━━━━━━━━━━━━\u001b[0m\u001b[37m\u001b[0m \u001b[1m0s\u001b[0m 308ms/step\n"
     ]
    },
    {
     "data": {
      "text/plain": [
       "array([[[-0.04794334, -0.02215635, -0.00122076, -0.02461982,\n",
       "          0.02970224,  0.03698659,  0.04334093,  0.00023353,\n",
       "         -0.04153144, -0.02661128],\n",
       "        [-0.04794334, -0.02215635, -0.00122076, -0.02461982,\n",
       "          0.02970224,  0.03698659,  0.04334093,  0.00023353,\n",
       "         -0.04153144, -0.02661128],\n",
       "        [-0.04794334, -0.02215635, -0.00122076, -0.02461982,\n",
       "          0.02970224,  0.03698659,  0.04334093,  0.00023353,\n",
       "         -0.04153144, -0.02661128],\n",
       "        [-0.04794334, -0.02215635, -0.00122076, -0.02461982,\n",
       "          0.02970224,  0.03698659,  0.04334093,  0.00023353,\n",
       "         -0.04153144, -0.02661128],\n",
       "        [-0.04941895, -0.00385017,  0.04181052,  0.02468984,\n",
       "         -0.0344377 ,  0.04264349, -0.04046105,  0.04912448,\n",
       "         -0.0278409 , -0.04676274],\n",
       "        [-0.02666429,  0.03335946,  0.02759898, -0.01572172,\n",
       "          0.04573517,  0.04177583,  0.01563381,  0.02062497,\n",
       "          0.00597432,  0.00659958],\n",
       "        [ 0.03028547, -0.02763261, -0.03745228, -0.0449115 ,\n",
       "          0.00313853, -0.02353425, -0.00705485, -0.02779818,\n",
       "         -0.00070377, -0.04041315],\n",
       "        [-0.00265525,  0.01547868, -0.01784383,  0.04451091,\n",
       "         -0.02626941,  0.04320602, -0.03425647,  0.01880473,\n",
       "         -0.04932634, -0.03653717]],\n",
       "\n",
       "       [[-0.04794334, -0.02215635, -0.00122076, -0.02461982,\n",
       "          0.02970224,  0.03698659,  0.04334093,  0.00023353,\n",
       "         -0.04153144, -0.02661128],\n",
       "        [-0.04794334, -0.02215635, -0.00122076, -0.02461982,\n",
       "          0.02970224,  0.03698659,  0.04334093,  0.00023353,\n",
       "         -0.04153144, -0.02661128],\n",
       "        [-0.04794334, -0.02215635, -0.00122076, -0.02461982,\n",
       "          0.02970224,  0.03698659,  0.04334093,  0.00023353,\n",
       "         -0.04153144, -0.02661128],\n",
       "        [-0.04794334, -0.02215635, -0.00122076, -0.02461982,\n",
       "          0.02970224,  0.03698659,  0.04334093,  0.00023353,\n",
       "         -0.04153144, -0.02661128],\n",
       "        [-0.04941895, -0.00385017,  0.04181052,  0.02468984,\n",
       "         -0.0344377 ,  0.04264349, -0.04046105,  0.04912448,\n",
       "         -0.0278409 , -0.04676274],\n",
       "        [-0.02666429,  0.03335946,  0.02759898, -0.01572172,\n",
       "          0.04573517,  0.04177583,  0.01563381,  0.02062497,\n",
       "          0.00597432,  0.00659958],\n",
       "        [ 0.03028547, -0.02763261, -0.03745228, -0.0449115 ,\n",
       "          0.00313853, -0.02353425, -0.00705485, -0.02779818,\n",
       "         -0.00070377, -0.04041315],\n",
       "        [-0.01966444,  0.01357407, -0.00294016, -0.04741183,\n",
       "         -0.02309458,  0.04354459,  0.03096454,  0.03701707,\n",
       "         -0.01848097, -0.01292168]],\n",
       "\n",
       "       [[-0.04794334, -0.02215635, -0.00122076, -0.02461982,\n",
       "          0.02970224,  0.03698659,  0.04334093,  0.00023353,\n",
       "         -0.04153144, -0.02661128],\n",
       "        [-0.04794334, -0.02215635, -0.00122076, -0.02461982,\n",
       "          0.02970224,  0.03698659,  0.04334093,  0.00023353,\n",
       "         -0.04153144, -0.02661128],\n",
       "        [-0.04794334, -0.02215635, -0.00122076, -0.02461982,\n",
       "          0.02970224,  0.03698659,  0.04334093,  0.00023353,\n",
       "         -0.04153144, -0.02661128],\n",
       "        [-0.04794334, -0.02215635, -0.00122076, -0.02461982,\n",
       "          0.02970224,  0.03698659,  0.04334093,  0.00023353,\n",
       "         -0.04153144, -0.02661128],\n",
       "        [-0.04941895, -0.00385017,  0.04181052,  0.02468984,\n",
       "         -0.0344377 ,  0.04264349, -0.04046105,  0.04912448,\n",
       "         -0.0278409 , -0.04676274],\n",
       "        [-0.01354604,  0.03670521,  0.01971013, -0.03487253,\n",
       "         -0.00807809, -0.0170783 , -0.01778632, -0.01518886,\n",
       "          0.0241872 ,  0.02610937],\n",
       "        [ 0.03028547, -0.02763261, -0.03745228, -0.0449115 ,\n",
       "          0.00313853, -0.02353425, -0.00705485, -0.02779818,\n",
       "         -0.00070377, -0.04041315],\n",
       "        [-0.03972638,  0.03264511,  0.0389525 , -0.00257916,\n",
       "          0.0136638 ,  0.00873861,  0.01178448, -0.00332578,\n",
       "          0.00614357,  0.00063803]],\n",
       "\n",
       "       [[-0.04794334, -0.02215635, -0.00122076, -0.02461982,\n",
       "          0.02970224,  0.03698659,  0.04334093,  0.00023353,\n",
       "         -0.04153144, -0.02661128],\n",
       "        [-0.04794334, -0.02215635, -0.00122076, -0.02461982,\n",
       "          0.02970224,  0.03698659,  0.04334093,  0.00023353,\n",
       "         -0.04153144, -0.02661128],\n",
       "        [-0.04794334, -0.02215635, -0.00122076, -0.02461982,\n",
       "          0.02970224,  0.03698659,  0.04334093,  0.00023353,\n",
       "         -0.04153144, -0.02661128],\n",
       "        [ 0.00092276,  0.01647541,  0.0078869 ,  0.01161761,\n",
       "         -0.01521417, -0.04690611,  0.03251251, -0.00138717,\n",
       "          0.04989776, -0.04147084],\n",
       "        [ 0.03576047, -0.02881718, -0.03530813,  0.02385051,\n",
       "          0.02614777,  0.01731243,  0.03237129,  0.02122487,\n",
       "         -0.01979094,  0.00177915],\n",
       "        [ 0.02208109, -0.00566323,  0.01156221,  0.03772217,\n",
       "         -0.02120936,  0.03501735,  0.0180083 ,  0.02094897,\n",
       "          0.01693436, -0.0325008 ],\n",
       "        [-0.04154154, -0.04946398,  0.04447712, -0.03792472,\n",
       "          0.03964509,  0.03068275, -0.04418268, -0.02672555,\n",
       "         -0.0192134 ,  0.03600181],\n",
       "        [ 0.04534381,  0.0380382 , -0.01751326,  0.02331303,\n",
       "          0.04836   , -0.03598484,  0.01835889, -0.01613799,\n",
       "         -0.00515459, -0.04525685]],\n",
       "\n",
       "       [[-0.04794334, -0.02215635, -0.00122076, -0.02461982,\n",
       "          0.02970224,  0.03698659,  0.04334093,  0.00023353,\n",
       "         -0.04153144, -0.02661128],\n",
       "        [-0.04794334, -0.02215635, -0.00122076, -0.02461982,\n",
       "          0.02970224,  0.03698659,  0.04334093,  0.00023353,\n",
       "         -0.04153144, -0.02661128],\n",
       "        [-0.04794334, -0.02215635, -0.00122076, -0.02461982,\n",
       "          0.02970224,  0.03698659,  0.04334093,  0.00023353,\n",
       "         -0.04153144, -0.02661128],\n",
       "        [ 0.00092276,  0.01647541,  0.0078869 ,  0.01161761,\n",
       "         -0.01521417, -0.04690611,  0.03251251, -0.00138717,\n",
       "          0.04989776, -0.04147084],\n",
       "        [ 0.03576047, -0.02881718, -0.03530813,  0.02385051,\n",
       "          0.02614777,  0.01731243,  0.03237129,  0.02122487,\n",
       "         -0.01979094,  0.00177915],\n",
       "        [ 0.02208109, -0.00566323,  0.01156221,  0.03772217,\n",
       "         -0.02120936,  0.03501735,  0.0180083 ,  0.02094897,\n",
       "          0.01693436, -0.0325008 ],\n",
       "        [-0.04154154, -0.04946398,  0.04447712, -0.03792472,\n",
       "          0.03964509,  0.03068275, -0.04418268, -0.02672555,\n",
       "         -0.0192134 ,  0.03600181],\n",
       "        [-0.02728778, -0.04029892,  0.02808774, -0.00413692,\n",
       "          0.02703123, -0.04678501,  0.02782399, -0.03969517,\n",
       "          0.04494205,  0.00942644]],\n",
       "\n",
       "       [[-0.04794334, -0.02215635, -0.00122076, -0.02461982,\n",
       "          0.02970224,  0.03698659,  0.04334093,  0.00023353,\n",
       "         -0.04153144, -0.02661128],\n",
       "        [-0.04794334, -0.02215635, -0.00122076, -0.02461982,\n",
       "          0.02970224,  0.03698659,  0.04334093,  0.00023353,\n",
       "         -0.04153144, -0.02661128],\n",
       "        [-0.04794334, -0.02215635, -0.00122076, -0.02461982,\n",
       "          0.02970224,  0.03698659,  0.04334093,  0.00023353,\n",
       "         -0.04153144, -0.02661128],\n",
       "        [ 0.01536102, -0.00216862, -0.04703495,  0.01216083,\n",
       "         -0.01269291, -0.03893514, -0.01293083,  0.00123497,\n",
       "         -0.04206331, -0.00510131],\n",
       "        [-0.04941895, -0.00385017,  0.04181052,  0.02468984,\n",
       "         -0.0344377 ,  0.04264349, -0.04046105,  0.04912448,\n",
       "         -0.0278409 , -0.04676274],\n",
       "        [-0.02404218, -0.04266464, -0.01648458, -0.03765734,\n",
       "          0.00292741, -0.0217749 , -0.01431222,  0.02930042,\n",
       "          0.04494612,  0.04228108],\n",
       "        [ 0.03028547, -0.02763261, -0.03745228, -0.0449115 ,\n",
       "          0.00313853, -0.02353425, -0.00705485, -0.02779818,\n",
       "         -0.00070377, -0.04041315],\n",
       "        [-0.00012787, -0.04280111,  0.00181707,  0.03389914,\n",
       "         -0.02945781,  0.01820261,  0.0087341 , -0.04126976,\n",
       "         -0.02689154,  0.02138111]],\n",
       "\n",
       "       [[-0.04794334, -0.02215635, -0.00122076, -0.02461982,\n",
       "          0.02970224,  0.03698659,  0.04334093,  0.00023353,\n",
       "         -0.04153144, -0.02661128],\n",
       "        [-0.04794334, -0.02215635, -0.00122076, -0.02461982,\n",
       "          0.02970224,  0.03698659,  0.04334093,  0.00023353,\n",
       "         -0.04153144, -0.02661128],\n",
       "        [-0.04794334, -0.02215635, -0.00122076, -0.02461982,\n",
       "          0.02970224,  0.03698659,  0.04334093,  0.00023353,\n",
       "         -0.04153144, -0.02661128],\n",
       "        [-0.04794334, -0.02215635, -0.00122076, -0.02461982,\n",
       "          0.02970224,  0.03698659,  0.04334093,  0.00023353,\n",
       "         -0.04153144, -0.02661128],\n",
       "        [ 0.00600791, -0.01288416,  0.04952886,  0.00337206,\n",
       "          0.01338837, -0.03135177, -0.00397875, -0.02052112,\n",
       "         -0.02408029,  0.03557105],\n",
       "        [-0.0267604 , -0.03394802, -0.01077253,  0.00780078,\n",
       "         -0.01492773, -0.0129787 , -0.02217807, -0.0137251 ,\n",
       "          0.03237707,  0.03260956],\n",
       "        [-0.01344075, -0.03838801, -0.0489355 , -0.02183264,\n",
       "          0.03096088, -0.01629925,  0.04445347, -0.01640742,\n",
       "          0.04711339,  0.01632068],\n",
       "        [-0.04154154, -0.04946398,  0.04447712, -0.03792472,\n",
       "          0.03964509,  0.03068275, -0.04418268, -0.02672555,\n",
       "         -0.0192134 ,  0.03600181]]], dtype=float32)"
      ]
     },
     "execution_count": 16,
     "metadata": {},
     "output_type": "execute_result"
    }
   ],
   "source": [
    "model.predict(embedded_docs)"
   ]
  },
  {
   "cell_type": "code",
   "execution_count": 17,
   "metadata": {},
   "outputs": [
    {
     "data": {
      "text/plain": [
       "array([   0,    0,    0,    0, 5613, 8042, 2619, 2811])"
      ]
     },
     "execution_count": 17,
     "metadata": {},
     "output_type": "execute_result"
    }
   ],
   "source": [
    "embedded_docs[0]"
   ]
  },
  {
   "cell_type": "code",
   "execution_count": 18,
   "metadata": {},
   "outputs": [
    {
     "ename": "ValueError",
     "evalue": "Exception encountered when calling Sequential.call().\n\n\u001b[1mCannot take the length of shape with unknown rank.\u001b[0m\n\nArguments received by Sequential.call():\n  • inputs=tf.Tensor(shape=<unknown>, dtype=int32)\n  • training=False\n  • mask=None",
     "output_type": "error",
     "traceback": [
      "\u001b[1;31m---------------------------------------------------------------------------\u001b[0m",
      "\u001b[1;31mValueError\u001b[0m                                Traceback (most recent call last)",
      "Cell \u001b[1;32mIn[18], line 1\u001b[0m\n\u001b[1;32m----> 1\u001b[0m \u001b[43mmodel\u001b[49m\u001b[38;5;241;43m.\u001b[39;49m\u001b[43mpredict\u001b[49m\u001b[43m(\u001b[49m\u001b[43membedded_docs\u001b[49m\u001b[43m[\u001b[49m\u001b[38;5;241;43m0\u001b[39;49m\u001b[43m]\u001b[49m\u001b[43m)\u001b[49m\n",
      "File \u001b[1;32mc:\\GenAI_udemy\\simple_rnn_imdb\\venv_RNN\\Lib\\site-packages\\keras\\src\\utils\\traceback_utils.py:122\u001b[0m, in \u001b[0;36mfilter_traceback.<locals>.error_handler\u001b[1;34m(*args, **kwargs)\u001b[0m\n\u001b[0;32m    119\u001b[0m     filtered_tb \u001b[38;5;241m=\u001b[39m _process_traceback_frames(e\u001b[38;5;241m.\u001b[39m__traceback__)\n\u001b[0;32m    120\u001b[0m     \u001b[38;5;66;03m# To get the full stack trace, call:\u001b[39;00m\n\u001b[0;32m    121\u001b[0m     \u001b[38;5;66;03m# `keras.config.disable_traceback_filtering()`\u001b[39;00m\n\u001b[1;32m--> 122\u001b[0m     \u001b[38;5;28;01mraise\u001b[39;00m e\u001b[38;5;241m.\u001b[39mwith_traceback(filtered_tb) \u001b[38;5;28;01mfrom\u001b[39;00m \u001b[38;5;28;01mNone\u001b[39;00m\n\u001b[0;32m    123\u001b[0m \u001b[38;5;28;01mfinally\u001b[39;00m:\n\u001b[0;32m    124\u001b[0m     \u001b[38;5;28;01mdel\u001b[39;00m filtered_tb\n",
      "File \u001b[1;32mc:\\GenAI_udemy\\simple_rnn_imdb\\venv_RNN\\Lib\\site-packages\\keras\\src\\utils\\traceback_utils.py:122\u001b[0m, in \u001b[0;36mfilter_traceback.<locals>.error_handler\u001b[1;34m(*args, **kwargs)\u001b[0m\n\u001b[0;32m    119\u001b[0m     filtered_tb \u001b[38;5;241m=\u001b[39m _process_traceback_frames(e\u001b[38;5;241m.\u001b[39m__traceback__)\n\u001b[0;32m    120\u001b[0m     \u001b[38;5;66;03m# To get the full stack trace, call:\u001b[39;00m\n\u001b[0;32m    121\u001b[0m     \u001b[38;5;66;03m# `keras.config.disable_traceback_filtering()`\u001b[39;00m\n\u001b[1;32m--> 122\u001b[0m     \u001b[38;5;28;01mraise\u001b[39;00m e\u001b[38;5;241m.\u001b[39mwith_traceback(filtered_tb) \u001b[38;5;28;01mfrom\u001b[39;00m \u001b[38;5;28;01mNone\u001b[39;00m\n\u001b[0;32m    123\u001b[0m \u001b[38;5;28;01mfinally\u001b[39;00m:\n\u001b[0;32m    124\u001b[0m     \u001b[38;5;28;01mdel\u001b[39;00m filtered_tb\n",
      "\u001b[1;31mValueError\u001b[0m: Exception encountered when calling Sequential.call().\n\n\u001b[1mCannot take the length of shape with unknown rank.\u001b[0m\n\nArguments received by Sequential.call():\n  • inputs=tf.Tensor(shape=<unknown>, dtype=int32)\n  • training=False\n  • mask=None"
     ]
    }
   ],
   "source": [
    "model.predict(embedded_docs[0])"
   ]
  },
  {
   "cell_type": "code",
   "execution_count": null,
   "metadata": {},
   "outputs": [],
   "source": []
  }
 ],
 "metadata": {
  "kernelspec": {
   "display_name": "Python 3",
   "language": "python",
   "name": "python3"
  },
  "language_info": {
   "codemirror_mode": {
    "name": "ipython",
    "version": 3
   },
   "file_extension": ".py",
   "mimetype": "text/x-python",
   "name": "python",
   "nbconvert_exporter": "python",
   "pygments_lexer": "ipython3",
   "version": "3.12.0"
  }
 },
 "nbformat": 4,
 "nbformat_minor": 2
}
