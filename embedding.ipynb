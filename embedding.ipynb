{
 "cells": [
  {
   "cell_type": "code",
   "execution_count": 1,
   "metadata": {},
   "outputs": [],
   "source": [
    "from tensorflow.keras.preprocessing.text import one_hot"
   ]
  },
  {
   "cell_type": "code",
   "execution_count": 2,
   "metadata": {},
   "outputs": [],
   "source": [
    "### sentences\n",
    "sent=[  'the glass of milk',\n",
    "     'the glass of juice',\n",
    "     'the cup of tea',\n",
    "    'I am a good boy',\n",
    "     'I am a good developer',\n",
    "     'understand the meaning of words',\n",
    "     'your videos are bad',]"
   ]
  },
  {
   "cell_type": "code",
   "execution_count": 3,
   "metadata": {},
   "outputs": [
    {
     "data": {
      "text/plain": [
       "['the glass of milk',\n",
       " 'the glass of juice',\n",
       " 'the cup of tea',\n",
       " 'I am a good boy',\n",
       " 'I am a good developer',\n",
       " 'understand the meaning of words',\n",
       " 'your videos are bad']"
      ]
     },
     "execution_count": 3,
     "metadata": {},
     "output_type": "execute_result"
    }
   ],
   "source": [
    "sent"
   ]
  },
  {
   "cell_type": "code",
   "execution_count": 4,
   "metadata": {},
   "outputs": [],
   "source": [
    "## Define the vocabulary size\n",
    "voc_size=10000"
   ]
  },
  {
   "cell_type": "code",
   "execution_count": 5,
   "metadata": {},
   "outputs": [
    {
     "data": {
      "text/plain": [
       "['the glass of milk',\n",
       " 'the glass of juice',\n",
       " 'the cup of tea',\n",
       " 'I am a good boy',\n",
       " 'I am a good developer',\n",
       " 'understand the meaning of words',\n",
       " 'your videos are bad']"
      ]
     },
     "execution_count": 5,
     "metadata": {},
     "output_type": "execute_result"
    }
   ],
   "source": [
    "sent"
   ]
  },
  {
   "cell_type": "code",
   "execution_count": 6,
   "metadata": {},
   "outputs": [
    {
     "data": {
      "text/plain": [
       "[[1028, 3637, 3031, 539],\n",
       " [1028, 3637, 3031, 8506],\n",
       " [1028, 2587, 3031, 4972],\n",
       " [7936, 3406, 2349, 595, 6975],\n",
       " [7936, 3406, 2349, 595, 5941],\n",
       " [6034, 1028, 7883, 3031, 2352],\n",
       " [4614, 592, 7144, 4012]]"
      ]
     },
     "execution_count": 6,
     "metadata": {},
     "output_type": "execute_result"
    }
   ],
   "source": [
    "### One Hot Representation\n",
    "one_hot_repr=[one_hot(words,voc_size)for words in sent]\n",
    "one_hot_repr"
   ]
  },
  {
   "cell_type": "markdown",
   "metadata": {},
   "source": [
    "In a vocabulary of 10,000 words, 'the' is at index 5613 and 'milk' is at index 2811. Similarly, the output of one_hot_repr shows the index where a word is present in the vocabulary, indicating the position where '1' will be placed, while all other indices for that word's vector will be '0'. Words with similar meanings are often close to each other in the index values; for example, 'good' and 'great' are at 844 and 973, respectively. In contrast, words with opposite meanings are usually far apart; for instance, 'good' is at 844, while 'bad' is at 2964."
   ]
  },
  {
   "cell_type": "code",
   "execution_count": 7,
   "metadata": {},
   "outputs": [],
   "source": [
    "## word Embedding Representation\n",
    "\n",
    "from tensorflow.keras.layers import Embedding\n",
    "#from tensorflow.keras.processing.sequence import pad_sequences\n",
    "from tensorflow.keras.utils import pad_sequences\n",
    "from tensorflow.keras.models import Sequential"
   ]
  },
  {
   "cell_type": "code",
   "execution_count": 8,
   "metadata": {},
   "outputs": [],
   "source": [
    "import numpy as np"
   ]
  },
  {
   "cell_type": "code",
   "execution_count": 9,
   "metadata": {},
   "outputs": [
    {
     "name": "stdout",
     "output_type": "stream",
     "text": [
      "[[   0    0    0    0 1028 3637 3031  539]\n",
      " [   0    0    0    0 1028 3637 3031 8506]\n",
      " [   0    0    0    0 1028 2587 3031 4972]\n",
      " [   0    0    0 7936 3406 2349  595 6975]\n",
      " [   0    0    0 7936 3406 2349  595 5941]\n",
      " [   0    0    0 6034 1028 7883 3031 2352]\n",
      " [   0    0    0    0 4614  592 7144 4012]]\n"
     ]
    }
   ],
   "source": [
    "# we need to make all the sentences to same length \n",
    "sent_length=8 # rendom length\n",
    "embedded_docs=pad_sequences(one_hot_repr,padding='pre',maxlen=sent_length)\n",
    "print(embedded_docs)"
   ]
  },
  {
   "cell_type": "code",
   "execution_count": 10,
   "metadata": {},
   "outputs": [],
   "source": [
    "## feature representation\n",
    "dim=10"
   ]
  },
  {
   "cell_type": "code",
   "execution_count": 11,
   "metadata": {},
   "outputs": [
    {
     "name": "stderr",
     "output_type": "stream",
     "text": [
      "c:\\GenAI_udemy\\simple_rnn_imdb\\venv_RNN\\Lib\\site-packages\\keras\\src\\layers\\core\\embedding.py:90: UserWarning: Argument `input_length` is deprecated. Just remove it.\n",
      "  warnings.warn(\n"
     ]
    }
   ],
   "source": [
    "model=Sequential()\n",
    "model.add(Embedding(input_dim=voc_size, output_dim=dim, input_length=sent_length))\n",
    "model.build(input_shape=(None, sent_length))\n",
    "model.compile('adam','mse') # optimizer = adam and mse as loss function"
   ]
  },
  {
   "cell_type": "code",
   "execution_count": 12,
   "metadata": {},
   "outputs": [
    {
     "data": {
      "text/html": [
       "<pre style=\"white-space:pre;overflow-x:auto;line-height:normal;font-family:Menlo,'DejaVu Sans Mono',consolas,'Courier New',monospace\"><span style=\"font-weight: bold\">Model: \"sequential\"</span>\n",
       "</pre>\n"
      ],
      "text/plain": [
       "\u001b[1mModel: \"sequential\"\u001b[0m\n"
      ]
     },
     "metadata": {},
     "output_type": "display_data"
    },
    {
     "data": {
      "text/html": [
       "<pre style=\"white-space:pre;overflow-x:auto;line-height:normal;font-family:Menlo,'DejaVu Sans Mono',consolas,'Courier New',monospace\">┏━━━━━━━━━━━━━━━━━━━━━━━━━━━━━━━━━┳━━━━━━━━━━━━━━━━━━━━━━━━┳━━━━━━━━━━━━━━━┓\n",
       "┃<span style=\"font-weight: bold\"> Layer (type)                    </span>┃<span style=\"font-weight: bold\"> Output Shape           </span>┃<span style=\"font-weight: bold\">       Param # </span>┃\n",
       "┡━━━━━━━━━━━━━━━━━━━━━━━━━━━━━━━━━╇━━━━━━━━━━━━━━━━━━━━━━━━╇━━━━━━━━━━━━━━━┩\n",
       "│ embedding (<span style=\"color: #0087ff; text-decoration-color: #0087ff\">Embedding</span>)           │ (<span style=\"color: #00d7ff; text-decoration-color: #00d7ff\">None</span>, <span style=\"color: #00af00; text-decoration-color: #00af00\">8</span>, <span style=\"color: #00af00; text-decoration-color: #00af00\">10</span>)          │       <span style=\"color: #00af00; text-decoration-color: #00af00\">100,000</span> │\n",
       "└─────────────────────────────────┴────────────────────────┴───────────────┘\n",
       "</pre>\n"
      ],
      "text/plain": [
       "┏━━━━━━━━━━━━━━━━━━━━━━━━━━━━━━━━━┳━━━━━━━━━━━━━━━━━━━━━━━━┳━━━━━━━━━━━━━━━┓\n",
       "┃\u001b[1m \u001b[0m\u001b[1mLayer (type)                   \u001b[0m\u001b[1m \u001b[0m┃\u001b[1m \u001b[0m\u001b[1mOutput Shape          \u001b[0m\u001b[1m \u001b[0m┃\u001b[1m \u001b[0m\u001b[1m      Param #\u001b[0m\u001b[1m \u001b[0m┃\n",
       "┡━━━━━━━━━━━━━━━━━━━━━━━━━━━━━━━━━╇━━━━━━━━━━━━━━━━━━━━━━━━╇━━━━━━━━━━━━━━━┩\n",
       "│ embedding (\u001b[38;5;33mEmbedding\u001b[0m)           │ (\u001b[38;5;45mNone\u001b[0m, \u001b[38;5;34m8\u001b[0m, \u001b[38;5;34m10\u001b[0m)          │       \u001b[38;5;34m100,000\u001b[0m │\n",
       "└─────────────────────────────────┴────────────────────────┴───────────────┘\n"
      ]
     },
     "metadata": {},
     "output_type": "display_data"
    },
    {
     "data": {
      "text/html": [
       "<pre style=\"white-space:pre;overflow-x:auto;line-height:normal;font-family:Menlo,'DejaVu Sans Mono',consolas,'Courier New',monospace\"><span style=\"font-weight: bold\"> Total params: </span><span style=\"color: #00af00; text-decoration-color: #00af00\">100,000</span> (390.62 KB)\n",
       "</pre>\n"
      ],
      "text/plain": [
       "\u001b[1m Total params: \u001b[0m\u001b[38;5;34m100,000\u001b[0m (390.62 KB)\n"
      ]
     },
     "metadata": {},
     "output_type": "display_data"
    },
    {
     "data": {
      "text/html": [
       "<pre style=\"white-space:pre;overflow-x:auto;line-height:normal;font-family:Menlo,'DejaVu Sans Mono',consolas,'Courier New',monospace\"><span style=\"font-weight: bold\"> Trainable params: </span><span style=\"color: #00af00; text-decoration-color: #00af00\">100,000</span> (390.62 KB)\n",
       "</pre>\n"
      ],
      "text/plain": [
       "\u001b[1m Trainable params: \u001b[0m\u001b[38;5;34m100,000\u001b[0m (390.62 KB)\n"
      ]
     },
     "metadata": {},
     "output_type": "display_data"
    },
    {
     "data": {
      "text/html": [
       "<pre style=\"white-space:pre;overflow-x:auto;line-height:normal;font-family:Menlo,'DejaVu Sans Mono',consolas,'Courier New',monospace\"><span style=\"font-weight: bold\"> Non-trainable params: </span><span style=\"color: #00af00; text-decoration-color: #00af00\">0</span> (0.00 B)\n",
       "</pre>\n"
      ],
      "text/plain": [
       "\u001b[1m Non-trainable params: \u001b[0m\u001b[38;5;34m0\u001b[0m (0.00 B)\n"
      ]
     },
     "metadata": {},
     "output_type": "display_data"
    }
   ],
   "source": [
    "model.summary()"
   ]
  },
  {
   "cell_type": "code",
   "execution_count": 13,
   "metadata": {},
   "outputs": [
    {
     "name": "stdout",
     "output_type": "stream",
     "text": [
      "\u001b[1m1/1\u001b[0m \u001b[32m━━━━━━━━━━━━━━━━━━━━\u001b[0m\u001b[37m\u001b[0m \u001b[1m0s\u001b[0m 155ms/step\n"
     ]
    },
    {
     "data": {
      "text/plain": [
       "array([[[-0.00502623,  0.00100422, -0.04058547, -0.00859774,\n",
       "         -0.02143321,  0.04685325, -0.04598395,  0.02912192,\n",
       "         -0.0377673 ,  0.00062136],\n",
       "        [-0.00502623,  0.00100422, -0.04058547, -0.00859774,\n",
       "         -0.02143321,  0.04685325, -0.04598395,  0.02912192,\n",
       "         -0.0377673 ,  0.00062136],\n",
       "        [-0.00502623,  0.00100422, -0.04058547, -0.00859774,\n",
       "         -0.02143321,  0.04685325, -0.04598395,  0.02912192,\n",
       "         -0.0377673 ,  0.00062136],\n",
       "        [-0.00502623,  0.00100422, -0.04058547, -0.00859774,\n",
       "         -0.02143321,  0.04685325, -0.04598395,  0.02912192,\n",
       "         -0.0377673 ,  0.00062136],\n",
       "        [ 0.03079828,  0.00735072,  0.02703509,  0.03173283,\n",
       "          0.01457909, -0.00255675, -0.01154256, -0.02359885,\n",
       "         -0.00338461,  0.03335166],\n",
       "        [ 0.01581845,  0.04291118, -0.04334918,  0.00575993,\n",
       "         -0.00673392,  0.02267339,  0.04234474, -0.02640917,\n",
       "         -0.02734238, -0.03030062],\n",
       "        [ 0.02703586, -0.04172341, -0.03625065,  0.03623197,\n",
       "          0.02883798, -0.01448467, -0.02911458, -0.035001  ,\n",
       "          0.02943314, -0.02242016],\n",
       "        [ 0.03492014, -0.04760069, -0.00788395, -0.03771519,\n",
       "         -0.03379176,  0.02110351, -0.00652333,  0.00540942,\n",
       "          0.01990754,  0.01884117]],\n",
       "\n",
       "       [[-0.00502623,  0.00100422, -0.04058547, -0.00859774,\n",
       "         -0.02143321,  0.04685325, -0.04598395,  0.02912192,\n",
       "         -0.0377673 ,  0.00062136],\n",
       "        [-0.00502623,  0.00100422, -0.04058547, -0.00859774,\n",
       "         -0.02143321,  0.04685325, -0.04598395,  0.02912192,\n",
       "         -0.0377673 ,  0.00062136],\n",
       "        [-0.00502623,  0.00100422, -0.04058547, -0.00859774,\n",
       "         -0.02143321,  0.04685325, -0.04598395,  0.02912192,\n",
       "         -0.0377673 ,  0.00062136],\n",
       "        [-0.00502623,  0.00100422, -0.04058547, -0.00859774,\n",
       "         -0.02143321,  0.04685325, -0.04598395,  0.02912192,\n",
       "         -0.0377673 ,  0.00062136],\n",
       "        [ 0.03079828,  0.00735072,  0.02703509,  0.03173283,\n",
       "          0.01457909, -0.00255675, -0.01154256, -0.02359885,\n",
       "         -0.00338461,  0.03335166],\n",
       "        [ 0.01581845,  0.04291118, -0.04334918,  0.00575993,\n",
       "         -0.00673392,  0.02267339,  0.04234474, -0.02640917,\n",
       "         -0.02734238, -0.03030062],\n",
       "        [ 0.02703586, -0.04172341, -0.03625065,  0.03623197,\n",
       "          0.02883798, -0.01448467, -0.02911458, -0.035001  ,\n",
       "          0.02943314, -0.02242016],\n",
       "        [ 0.04732301, -0.01031327,  0.01009067, -0.04523839,\n",
       "          0.02510767,  0.02511331,  0.04468746, -0.03209423,\n",
       "          0.03997872, -0.01513499]],\n",
       "\n",
       "       [[-0.00502623,  0.00100422, -0.04058547, -0.00859774,\n",
       "         -0.02143321,  0.04685325, -0.04598395,  0.02912192,\n",
       "         -0.0377673 ,  0.00062136],\n",
       "        [-0.00502623,  0.00100422, -0.04058547, -0.00859774,\n",
       "         -0.02143321,  0.04685325, -0.04598395,  0.02912192,\n",
       "         -0.0377673 ,  0.00062136],\n",
       "        [-0.00502623,  0.00100422, -0.04058547, -0.00859774,\n",
       "         -0.02143321,  0.04685325, -0.04598395,  0.02912192,\n",
       "         -0.0377673 ,  0.00062136],\n",
       "        [-0.00502623,  0.00100422, -0.04058547, -0.00859774,\n",
       "         -0.02143321,  0.04685325, -0.04598395,  0.02912192,\n",
       "         -0.0377673 ,  0.00062136],\n",
       "        [ 0.03079828,  0.00735072,  0.02703509,  0.03173283,\n",
       "          0.01457909, -0.00255675, -0.01154256, -0.02359885,\n",
       "         -0.00338461,  0.03335166],\n",
       "        [-0.00088461, -0.03467058,  0.04788202,  0.02029802,\n",
       "          0.04259685,  0.03336989, -0.00136492, -0.02854155,\n",
       "         -0.01810596,  0.02180837],\n",
       "        [ 0.02703586, -0.04172341, -0.03625065,  0.03623197,\n",
       "          0.02883798, -0.01448467, -0.02911458, -0.035001  ,\n",
       "          0.02943314, -0.02242016],\n",
       "        [ 0.0015264 , -0.03675053, -0.00274764, -0.0295574 ,\n",
       "          0.03119506, -0.00879246,  0.01724705,  0.00526832,\n",
       "          0.02038104, -0.00473806]],\n",
       "\n",
       "       [[-0.00502623,  0.00100422, -0.04058547, -0.00859774,\n",
       "         -0.02143321,  0.04685325, -0.04598395,  0.02912192,\n",
       "         -0.0377673 ,  0.00062136],\n",
       "        [-0.00502623,  0.00100422, -0.04058547, -0.00859774,\n",
       "         -0.02143321,  0.04685325, -0.04598395,  0.02912192,\n",
       "         -0.0377673 ,  0.00062136],\n",
       "        [-0.00502623,  0.00100422, -0.04058547, -0.00859774,\n",
       "         -0.02143321,  0.04685325, -0.04598395,  0.02912192,\n",
       "         -0.0377673 ,  0.00062136],\n",
       "        [ 0.0025427 ,  0.03977555,  0.02496931,  0.01664541,\n",
       "         -0.01886159, -0.00857807,  0.04439845,  0.01765068,\n",
       "         -0.02671186,  0.00207547],\n",
       "        [-0.02490743, -0.04510562,  0.03614756, -0.03691   ,\n",
       "          0.04378653,  0.04469911, -0.04074116, -0.01350962,\n",
       "         -0.04059148,  0.02399082],\n",
       "        [ 0.04395876, -0.03055867, -0.01343368,  0.00378304,\n",
       "          0.04967849, -0.03473302, -0.02608897,  0.00245454,\n",
       "         -0.00977409,  0.04234781],\n",
       "        [ 0.04639601,  0.0057758 ,  0.00839325,  0.03895822,\n",
       "         -0.00939026, -0.03680229,  0.01562199,  0.00109013,\n",
       "          0.01154281,  0.03630327],\n",
       "        [-0.04185405,  0.04510352,  0.00804088,  0.03257551,\n",
       "          0.00732078, -0.04289242, -0.03765451, -0.03598578,\n",
       "         -0.00818991, -0.03993225]],\n",
       "\n",
       "       [[-0.00502623,  0.00100422, -0.04058547, -0.00859774,\n",
       "         -0.02143321,  0.04685325, -0.04598395,  0.02912192,\n",
       "         -0.0377673 ,  0.00062136],\n",
       "        [-0.00502623,  0.00100422, -0.04058547, -0.00859774,\n",
       "         -0.02143321,  0.04685325, -0.04598395,  0.02912192,\n",
       "         -0.0377673 ,  0.00062136],\n",
       "        [-0.00502623,  0.00100422, -0.04058547, -0.00859774,\n",
       "         -0.02143321,  0.04685325, -0.04598395,  0.02912192,\n",
       "         -0.0377673 ,  0.00062136],\n",
       "        [ 0.0025427 ,  0.03977555,  0.02496931,  0.01664541,\n",
       "         -0.01886159, -0.00857807,  0.04439845,  0.01765068,\n",
       "         -0.02671186,  0.00207547],\n",
       "        [-0.02490743, -0.04510562,  0.03614756, -0.03691   ,\n",
       "          0.04378653,  0.04469911, -0.04074116, -0.01350962,\n",
       "         -0.04059148,  0.02399082],\n",
       "        [ 0.04395876, -0.03055867, -0.01343368,  0.00378304,\n",
       "          0.04967849, -0.03473302, -0.02608897,  0.00245454,\n",
       "         -0.00977409,  0.04234781],\n",
       "        [ 0.04639601,  0.0057758 ,  0.00839325,  0.03895822,\n",
       "         -0.00939026, -0.03680229,  0.01562199,  0.00109013,\n",
       "          0.01154281,  0.03630327],\n",
       "        [-0.04480794,  0.0484519 ,  0.02198931,  0.04055155,\n",
       "          0.02503737,  0.04102954,  0.02330619,  0.02675581,\n",
       "         -0.04883676, -0.04850029]],\n",
       "\n",
       "       [[-0.00502623,  0.00100422, -0.04058547, -0.00859774,\n",
       "         -0.02143321,  0.04685325, -0.04598395,  0.02912192,\n",
       "         -0.0377673 ,  0.00062136],\n",
       "        [-0.00502623,  0.00100422, -0.04058547, -0.00859774,\n",
       "         -0.02143321,  0.04685325, -0.04598395,  0.02912192,\n",
       "         -0.0377673 ,  0.00062136],\n",
       "        [-0.00502623,  0.00100422, -0.04058547, -0.00859774,\n",
       "         -0.02143321,  0.04685325, -0.04598395,  0.02912192,\n",
       "         -0.0377673 ,  0.00062136],\n",
       "        [ 0.01333162, -0.02405248, -0.01580238, -0.02080752,\n",
       "         -0.04544578,  0.00431881, -0.02543529, -0.02638464,\n",
       "         -0.00936055,  0.04534722],\n",
       "        [ 0.03079828,  0.00735072,  0.02703509,  0.03173283,\n",
       "          0.01457909, -0.00255675, -0.01154256, -0.02359885,\n",
       "         -0.00338461,  0.03335166],\n",
       "        [ 0.03533267,  0.01704201, -0.01749558,  0.03133715,\n",
       "         -0.012818  ,  0.03882383, -0.02512615, -0.03694099,\n",
       "         -0.01932739,  0.00080543],\n",
       "        [ 0.02703586, -0.04172341, -0.03625065,  0.03623197,\n",
       "          0.02883798, -0.01448467, -0.02911458, -0.035001  ,\n",
       "          0.02943314, -0.02242016],\n",
       "        [-0.0326187 , -0.03991997, -0.04566142, -0.01047932,\n",
       "         -0.03796007, -0.01997935,  0.00143408,  0.01516867,\n",
       "         -0.01477534,  0.00388427]],\n",
       "\n",
       "       [[-0.00502623,  0.00100422, -0.04058547, -0.00859774,\n",
       "         -0.02143321,  0.04685325, -0.04598395,  0.02912192,\n",
       "         -0.0377673 ,  0.00062136],\n",
       "        [-0.00502623,  0.00100422, -0.04058547, -0.00859774,\n",
       "         -0.02143321,  0.04685325, -0.04598395,  0.02912192,\n",
       "         -0.0377673 ,  0.00062136],\n",
       "        [-0.00502623,  0.00100422, -0.04058547, -0.00859774,\n",
       "         -0.02143321,  0.04685325, -0.04598395,  0.02912192,\n",
       "         -0.0377673 ,  0.00062136],\n",
       "        [-0.00502623,  0.00100422, -0.04058547, -0.00859774,\n",
       "         -0.02143321,  0.04685325, -0.04598395,  0.02912192,\n",
       "         -0.0377673 ,  0.00062136],\n",
       "        [-0.03089073,  0.0174028 , -0.04467205, -0.02385159,\n",
       "         -0.01510113,  0.03322366,  0.00194078, -0.01220964,\n",
       "          0.02353584,  0.04049108],\n",
       "        [-0.04970741,  0.03163052,  0.016392  ,  0.00442927,\n",
       "          0.00285181,  0.03973922,  0.04095514, -0.01823451,\n",
       "         -0.01404866,  0.03030107],\n",
       "        [ 0.00462987,  0.04772076,  0.00787436, -0.03238346,\n",
       "         -0.00072944,  0.0182873 , -0.02213621,  0.03982722,\n",
       "          0.04503434, -0.01255943],\n",
       "        [ 0.0213035 , -0.04770259,  0.01375714,  0.00872894,\n",
       "         -0.0337368 ,  0.01687873,  0.01751361, -0.00775778,\n",
       "          0.01673866, -0.02022207]]], dtype=float32)"
      ]
     },
     "execution_count": 13,
     "metadata": {},
     "output_type": "execute_result"
    }
   ],
   "source": [
    "model.predict(embedded_docs) # every word is represented with 10 dimenssion"
   ]
  },
  {
   "cell_type": "code",
   "execution_count": 14,
   "metadata": {},
   "outputs": [
    {
     "data": {
      "text/plain": [
       "array([   0,    0,    0,    0, 1028, 3637, 3031,  539])"
      ]
     },
     "execution_count": 14,
     "metadata": {},
     "output_type": "execute_result"
    }
   ],
   "source": [
    "embedded_docs[0]"
   ]
  },
  {
   "cell_type": "code",
   "execution_count": 21,
   "metadata": {},
   "outputs": [
    {
     "data": {
      "text/plain": [
       "array([[   0,    0,    0,    0, 1028, 3637, 3031,  539]])"
      ]
     },
     "execution_count": 21,
     "metadata": {},
     "output_type": "execute_result"
    }
   ],
   "source": [
    "# the expected input is in the format of 2D array\n",
    "np.array( [[  0,    0,    0,    0, 1028, 3637, 3031,  539]])"
   ]
  },
  {
   "cell_type": "code",
   "execution_count": 22,
   "metadata": {},
   "outputs": [
    {
     "name": "stdout",
     "output_type": "stream",
     "text": [
      "\u001b[1m1/1\u001b[0m \u001b[32m━━━━━━━━━━━━━━━━━━━━\u001b[0m\u001b[37m\u001b[0m \u001b[1m0s\u001b[0m 301ms/step\n"
     ]
    },
    {
     "data": {
      "text/plain": [
       "array([[[-0.00502623,  0.00100422, -0.04058547, -0.00859774,\n",
       "         -0.02143321,  0.04685325, -0.04598395,  0.02912192,\n",
       "         -0.0377673 ,  0.00062136],\n",
       "        [-0.00502623,  0.00100422, -0.04058547, -0.00859774,\n",
       "         -0.02143321,  0.04685325, -0.04598395,  0.02912192,\n",
       "         -0.0377673 ,  0.00062136],\n",
       "        [-0.00502623,  0.00100422, -0.04058547, -0.00859774,\n",
       "         -0.02143321,  0.04685325, -0.04598395,  0.02912192,\n",
       "         -0.0377673 ,  0.00062136],\n",
       "        [-0.00502623,  0.00100422, -0.04058547, -0.00859774,\n",
       "         -0.02143321,  0.04685325, -0.04598395,  0.02912192,\n",
       "         -0.0377673 ,  0.00062136],\n",
       "        [ 0.03079828,  0.00735072,  0.02703509,  0.03173283,\n",
       "          0.01457909, -0.00255675, -0.01154256, -0.02359885,\n",
       "         -0.00338461,  0.03335166],\n",
       "        [ 0.01581845,  0.04291118, -0.04334918,  0.00575993,\n",
       "         -0.00673392,  0.02267339,  0.04234474, -0.02640917,\n",
       "         -0.02734238, -0.03030062],\n",
       "        [ 0.02703586, -0.04172341, -0.03625065,  0.03623197,\n",
       "          0.02883798, -0.01448467, -0.02911458, -0.035001  ,\n",
       "          0.02943314, -0.02242016],\n",
       "        [ 0.03492014, -0.04760069, -0.00788395, -0.03771519,\n",
       "         -0.03379176,  0.02110351, -0.00652333,  0.00540942,\n",
       "          0.01990754,  0.01884117]]], dtype=float32)"
      ]
     },
     "execution_count": 22,
     "metadata": {},
     "output_type": "execute_result"
    }
   ],
   "source": [
    "model.predict(np.array([[   0,    0,    0,    0, 1028, 3637, 3031,  539]]))"
   ]
  }
 ],
 "metadata": {
  "kernelspec": {
   "display_name": "Python 3",
   "language": "python",
   "name": "python3"
  },
  "language_info": {
   "codemirror_mode": {
    "name": "ipython",
    "version": 3
   },
   "file_extension": ".py",
   "mimetype": "text/x-python",
   "name": "python",
   "nbconvert_exporter": "python",
   "pygments_lexer": "ipython3",
   "version": "3.12.0"
  }
 },
 "nbformat": 4,
 "nbformat_minor": 2
}
