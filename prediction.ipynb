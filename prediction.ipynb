{
 "cells": [
  {
   "cell_type": "code",
   "execution_count": 13,
   "metadata": {},
   "outputs": [],
   "source": [
    "# Step 1: Import Libraries and Load the Model\n",
    "import numpy as np\n",
    "import tensorflow as tf\n",
    "from tensorflow.keras.datasets import imdb\n",
    "from tensorflow.keras.preprocessing import sequence\n",
    "from tensorflow.keras.models import load_model"
   ]
  },
  {
   "cell_type": "code",
   "execution_count": 14,
   "metadata": {},
   "outputs": [],
   "source": [
    "\n",
    "# Load the IMDB dataset word index\n",
    "word_index = imdb.get_word_index()\n",
    "reverse_word_index = {value: key for key, value in word_index.items()}"
   ]
  },
  {
   "cell_type": "code",
   "execution_count": 15,
   "metadata": {},
   "outputs": [
    {
     "name": "stderr",
     "output_type": "stream",
     "text": [
      "WARNING:absl:Compiled the loaded model, but the compiled metrics have yet to be built. `model.compile_metrics` will be empty until you train or evaluate the model.\n"
     ]
    },
    {
     "data": {
      "text/html": [
       "<pre style=\"white-space:pre;overflow-x:auto;line-height:normal;font-family:Menlo,'DejaVu Sans Mono',consolas,'Courier New',monospace\"><span style=\"font-weight: bold\">Model: \"sequential\"</span>\n",
       "</pre>\n"
      ],
      "text/plain": [
       "\u001b[1mModel: \"sequential\"\u001b[0m\n"
      ]
     },
     "metadata": {},
     "output_type": "display_data"
    },
    {
     "data": {
      "text/html": [
       "<pre style=\"white-space:pre;overflow-x:auto;line-height:normal;font-family:Menlo,'DejaVu Sans Mono',consolas,'Courier New',monospace\">┏━━━━━━━━━━━━━━━━━━━━━━━━━━━━━━━━━┳━━━━━━━━━━━━━━━━━━━━━━━━┳━━━━━━━━━━━━━━━┓\n",
       "┃<span style=\"font-weight: bold\"> Layer (type)                    </span>┃<span style=\"font-weight: bold\"> Output Shape           </span>┃<span style=\"font-weight: bold\">       Param # </span>┃\n",
       "┡━━━━━━━━━━━━━━━━━━━━━━━━━━━━━━━━━╇━━━━━━━━━━━━━━━━━━━━━━━━╇━━━━━━━━━━━━━━━┩\n",
       "│ embedding (<span style=\"color: #0087ff; text-decoration-color: #0087ff\">Embedding</span>)           │ (<span style=\"color: #00af00; text-decoration-color: #00af00\">32</span>, <span style=\"color: #00af00; text-decoration-color: #00af00\">500</span>, <span style=\"color: #00af00; text-decoration-color: #00af00\">128</span>)         │     <span style=\"color: #00af00; text-decoration-color: #00af00\">1,280,000</span> │\n",
       "├─────────────────────────────────┼────────────────────────┼───────────────┤\n",
       "│ simple_rnn (<span style=\"color: #0087ff; text-decoration-color: #0087ff\">SimpleRNN</span>)          │ (<span style=\"color: #00af00; text-decoration-color: #00af00\">32</span>, <span style=\"color: #00af00; text-decoration-color: #00af00\">128</span>)              │        <span style=\"color: #00af00; text-decoration-color: #00af00\">32,896</span> │\n",
       "├─────────────────────────────────┼────────────────────────┼───────────────┤\n",
       "│ dense (<span style=\"color: #0087ff; text-decoration-color: #0087ff\">Dense</span>)                   │ (<span style=\"color: #00af00; text-decoration-color: #00af00\">32</span>, <span style=\"color: #00af00; text-decoration-color: #00af00\">1</span>)                │           <span style=\"color: #00af00; text-decoration-color: #00af00\">129</span> │\n",
       "└─────────────────────────────────┴────────────────────────┴───────────────┘\n",
       "</pre>\n"
      ],
      "text/plain": [
       "┏━━━━━━━━━━━━━━━━━━━━━━━━━━━━━━━━━┳━━━━━━━━━━━━━━━━━━━━━━━━┳━━━━━━━━━━━━━━━┓\n",
       "┃\u001b[1m \u001b[0m\u001b[1mLayer (type)                   \u001b[0m\u001b[1m \u001b[0m┃\u001b[1m \u001b[0m\u001b[1mOutput Shape          \u001b[0m\u001b[1m \u001b[0m┃\u001b[1m \u001b[0m\u001b[1m      Param #\u001b[0m\u001b[1m \u001b[0m┃\n",
       "┡━━━━━━━━━━━━━━━━━━━━━━━━━━━━━━━━━╇━━━━━━━━━━━━━━━━━━━━━━━━╇━━━━━━━━━━━━━━━┩\n",
       "│ embedding (\u001b[38;5;33mEmbedding\u001b[0m)           │ (\u001b[38;5;34m32\u001b[0m, \u001b[38;5;34m500\u001b[0m, \u001b[38;5;34m128\u001b[0m)         │     \u001b[38;5;34m1,280,000\u001b[0m │\n",
       "├─────────────────────────────────┼────────────────────────┼───────────────┤\n",
       "│ simple_rnn (\u001b[38;5;33mSimpleRNN\u001b[0m)          │ (\u001b[38;5;34m32\u001b[0m, \u001b[38;5;34m128\u001b[0m)              │        \u001b[38;5;34m32,896\u001b[0m │\n",
       "├─────────────────────────────────┼────────────────────────┼───────────────┤\n",
       "│ dense (\u001b[38;5;33mDense\u001b[0m)                   │ (\u001b[38;5;34m32\u001b[0m, \u001b[38;5;34m1\u001b[0m)                │           \u001b[38;5;34m129\u001b[0m │\n",
       "└─────────────────────────────────┴────────────────────────┴───────────────┘\n"
      ]
     },
     "metadata": {},
     "output_type": "display_data"
    },
    {
     "data": {
      "text/html": [
       "<pre style=\"white-space:pre;overflow-x:auto;line-height:normal;font-family:Menlo,'DejaVu Sans Mono',consolas,'Courier New',monospace\"><span style=\"font-weight: bold\"> Total params: </span><span style=\"color: #00af00; text-decoration-color: #00af00\">1,313,027</span> (5.01 MB)\n",
       "</pre>\n"
      ],
      "text/plain": [
       "\u001b[1m Total params: \u001b[0m\u001b[38;5;34m1,313,027\u001b[0m (5.01 MB)\n"
      ]
     },
     "metadata": {},
     "output_type": "display_data"
    },
    {
     "data": {
      "text/html": [
       "<pre style=\"white-space:pre;overflow-x:auto;line-height:normal;font-family:Menlo,'DejaVu Sans Mono',consolas,'Courier New',monospace\"><span style=\"font-weight: bold\"> Trainable params: </span><span style=\"color: #00af00; text-decoration-color: #00af00\">1,313,025</span> (5.01 MB)\n",
       "</pre>\n"
      ],
      "text/plain": [
       "\u001b[1m Trainable params: \u001b[0m\u001b[38;5;34m1,313,025\u001b[0m (5.01 MB)\n"
      ]
     },
     "metadata": {},
     "output_type": "display_data"
    },
    {
     "data": {
      "text/html": [
       "<pre style=\"white-space:pre;overflow-x:auto;line-height:normal;font-family:Menlo,'DejaVu Sans Mono',consolas,'Courier New',monospace\"><span style=\"font-weight: bold\"> Non-trainable params: </span><span style=\"color: #00af00; text-decoration-color: #00af00\">0</span> (0.00 B)\n",
       "</pre>\n"
      ],
      "text/plain": [
       "\u001b[1m Non-trainable params: \u001b[0m\u001b[38;5;34m0\u001b[0m (0.00 B)\n"
      ]
     },
     "metadata": {},
     "output_type": "display_data"
    },
    {
     "data": {
      "text/html": [
       "<pre style=\"white-space:pre;overflow-x:auto;line-height:normal;font-family:Menlo,'DejaVu Sans Mono',consolas,'Courier New',monospace\"><span style=\"font-weight: bold\"> Optimizer params: </span><span style=\"color: #00af00; text-decoration-color: #00af00\">2</span> (12.00 B)\n",
       "</pre>\n"
      ],
      "text/plain": [
       "\u001b[1m Optimizer params: \u001b[0m\u001b[38;5;34m2\u001b[0m (12.00 B)\n"
      ]
     },
     "metadata": {},
     "output_type": "display_data"
    }
   ],
   "source": [
    "# Load the pre-trained model with ReLU activation\n",
    "model = load_model('simple_rnn_imdb.h5')\n",
    "model.summary()"
   ]
  },
  {
   "cell_type": "code",
   "execution_count": 16,
   "metadata": {},
   "outputs": [
    {
     "data": {
      "text/plain": [
       "[array([[ 0.24754654, -0.97850156,  0.7351539 , ..., -0.9304877 ,\n",
       "          0.24875997, -0.239571  ],\n",
       "        [ 0.08639628, -0.06897128,  0.00864888, ..., -0.11113334,\n",
       "         -0.00248247, -0.00662092],\n",
       "        [ 0.01870773, -0.24782297,  0.09887432, ..., -0.13671537,\n",
       "          0.11629683,  0.04840937],\n",
       "        ...,\n",
       "        [-0.09104902, -0.07233556,  0.04972119, ..., -0.02840995,\n",
       "          0.02378544, -0.00227827],\n",
       "        [ 0.11382719,  0.01900192,  0.1851441 , ..., -0.1506649 ,\n",
       "         -0.20521842, -0.06177948],\n",
       "        [-0.21038266,  0.10902661, -0.23748784, ...,  0.26293784,\n",
       "          0.14224365,  0.202039  ]], dtype=float32),\n",
       " array([[-0.0665736 , -0.04071161,  0.09337546, ..., -0.03215481,\n",
       "         -0.2175335 ,  0.06192685],\n",
       "        [-0.09094827,  0.13095517, -0.03310756, ...,  0.0472285 ,\n",
       "          0.12394276, -0.06389425],\n",
       "        [-0.09975609, -0.1947732 , -0.12268189, ..., -0.16770786,\n",
       "         -0.01027667, -0.12957442],\n",
       "        ...,\n",
       "        [-0.07865439, -0.04503654,  0.22088401, ...,  0.18402773,\n",
       "          0.11844529,  0.03265478],\n",
       "        [ 0.14819376,  0.04482595,  0.04472562, ...,  0.04029724,\n",
       "         -0.22952455, -0.00444577],\n",
       "        [-0.07732695, -0.1621663 ,  0.00394487, ...,  0.08711565,\n",
       "          0.07612916,  0.16502118]], dtype=float32),\n",
       " array([[ 0.12403182,  0.08673338, -0.1520267 , ..., -0.01523328,\n",
       "         -0.06497294, -0.1909329 ],\n",
       "        [ 0.04809589,  0.06648205,  0.15845324, ...,  0.03511197,\n",
       "          0.05537068,  0.10452542],\n",
       "        [ 0.14707285, -0.00768821, -0.07858156, ...,  0.03841452,\n",
       "         -0.03379908, -0.04078547],\n",
       "        ...,\n",
       "        [ 0.02474254,  0.03360741, -0.18248227, ..., -0.03969103,\n",
       "          0.14583082,  0.11478397],\n",
       "        [ 0.23733507, -0.01204245, -0.08618107, ..., -0.10347093,\n",
       "         -0.07410774, -0.12145152],\n",
       "        [ 0.10401774,  0.03680963, -0.04797368, ...,  0.02081901,\n",
       "          0.06620625,  0.00724186]], dtype=float32),\n",
       " array([-0.00762277,  0.00299762,  0.0195359 , -0.01840543,  0.00401912,\n",
       "         0.03925978, -0.017686  ,  0.00465618,  0.00874887, -0.00478404,\n",
       "        -0.01052396, -0.01225794, -0.02864815, -0.03649903, -0.02589962,\n",
       "        -0.03912693,  0.00781838, -0.04558603, -0.05839641, -0.02493835,\n",
       "        -0.01116173, -0.00843308,  0.04228518, -0.03167687,  0.04063236,\n",
       "         0.00377083,  0.01821715, -0.03849709,  0.03276497, -0.04076044,\n",
       "         0.00555593, -0.0267169 , -0.05502597,  0.00904322,  0.06566893,\n",
       "         0.01657434,  0.03421026,  0.02402626,  0.0157038 , -0.04813544,\n",
       "         0.03531897,  0.02155776,  0.01178157,  0.0357459 ,  0.02789009,\n",
       "        -0.02277818, -0.03114777, -0.02727707,  0.00059208, -0.0502542 ,\n",
       "        -0.00599341, -0.02258421,  0.02554   , -0.05153322, -0.00285186,\n",
       "         0.11454791, -0.01454493,  0.04117132, -0.02210632, -0.00707082,\n",
       "         0.03545048, -0.04153863, -0.00753065,  0.02252399, -0.01997588,\n",
       "        -0.05725253, -0.03047436, -0.0607006 , -0.04728202, -0.0093178 ,\n",
       "        -0.01729378, -0.04597968,  0.00031659,  0.05181209, -0.02445574,\n",
       "        -0.00113729,  0.0293392 , -0.01462653, -0.01839213, -0.06138371,\n",
       "         0.02316161,  0.02522246, -0.01190747, -0.02176559, -0.00436162,\n",
       "         0.04050473, -0.01972863,  0.02546152,  0.00431955, -0.0243302 ,\n",
       "         0.06529236, -0.01373466, -0.02728402, -0.02159321, -0.02579812,\n",
       "        -0.00701472, -0.05110817, -0.06535304, -0.00194431, -0.01867583,\n",
       "        -0.04659362,  0.0480912 , -0.03037148, -0.03103594,  0.00021228,\n",
       "        -0.03116571, -0.00228866, -0.00394523, -0.05390117,  0.02189745,\n",
       "        -0.0031346 , -0.0272732 ,  0.01714366, -0.00481296, -0.033744  ,\n",
       "        -0.03433514, -0.05198322, -0.0641433 , -0.01300675,  0.0143936 ,\n",
       "        -0.04658787,  0.00883481, -0.0351979 , -0.01133445,  0.05672589,\n",
       "        -0.04755655, -0.0188547 , -0.06189383], dtype=float32),\n",
       " array([[ 1.86571762e-01],\n",
       "        [-1.67249069e-01],\n",
       "        [-2.55856872e-01],\n",
       "        [-3.41828734e-01],\n",
       "        [ 4.29080009e-01],\n",
       "        [-8.68735388e-02],\n",
       "        [ 8.32616612e-02],\n",
       "        [-2.24078423e-03],\n",
       "        [ 9.26591828e-02],\n",
       "        [ 1.86480090e-01],\n",
       "        [ 1.04122035e-01],\n",
       "        [ 1.82243630e-01],\n",
       "        [ 1.70891970e-01],\n",
       "        [-2.61093140e-01],\n",
       "        [-7.15535879e-02],\n",
       "        [ 1.35958746e-01],\n",
       "        [-2.84308672e-01],\n",
       "        [-6.57528043e-02],\n",
       "        [-3.96370411e-01],\n",
       "        [-1.36110142e-01],\n",
       "        [ 3.91291513e-04],\n",
       "        [ 2.06743255e-01],\n",
       "        [-3.04250792e-03],\n",
       "        [ 9.21795592e-02],\n",
       "        [ 2.36762166e-01],\n",
       "        [-2.51105666e-01],\n",
       "        [ 1.62391886e-02],\n",
       "        [-8.36560056e-02],\n",
       "        [-1.28919780e-01],\n",
       "        [ 3.93701112e-03],\n",
       "        [-7.54582062e-02],\n",
       "        [-3.19514781e-01],\n",
       "        [ 2.17217326e-01],\n",
       "        [-1.31547078e-01],\n",
       "        [ 1.28402993e-01],\n",
       "        [ 8.30934718e-02],\n",
       "        [ 1.96450680e-01],\n",
       "        [ 1.97066560e-01],\n",
       "        [ 2.02389449e-01],\n",
       "        [-3.91592383e-01],\n",
       "        [ 1.98803350e-01],\n",
       "        [-7.65695423e-02],\n",
       "        [-2.59887934e-01],\n",
       "        [-1.99434415e-01],\n",
       "        [ 3.10182929e-01],\n",
       "        [ 1.59408301e-01],\n",
       "        [-5.89339957e-02],\n",
       "        [-8.58592466e-02],\n",
       "        [-9.16168541e-02],\n",
       "        [ 1.85173094e-01],\n",
       "        [ 2.76273698e-01],\n",
       "        [-3.87486875e-01],\n",
       "        [ 2.51116902e-01],\n",
       "        [ 1.22868158e-01],\n",
       "        [ 6.23341836e-02],\n",
       "        [-9.96076465e-02],\n",
       "        [ 1.40429067e-03],\n",
       "        [-9.86987278e-02],\n",
       "        [ 1.66810274e-01],\n",
       "        [-9.58612040e-02],\n",
       "        [-1.11159354e-01],\n",
       "        [-8.09745669e-01],\n",
       "        [-6.11838251e-02],\n",
       "        [ 2.14481950e-01],\n",
       "        [ 1.46225512e-01],\n",
       "        [-1.96517155e-01],\n",
       "        [-3.01694751e-01],\n",
       "        [-6.81798577e-01],\n",
       "        [-5.73078632e-01],\n",
       "        [ 4.96447831e-02],\n",
       "        [ 1.14098281e-01],\n",
       "        [-1.31425997e-02],\n",
       "        [ 1.01680227e-01],\n",
       "        [-6.54192567e-02],\n",
       "        [-1.84997305e-01],\n",
       "        [-9.14506800e-03],\n",
       "        [ 6.69606864e-01],\n",
       "        [ 1.58475354e-01],\n",
       "        [ 1.32604748e-01],\n",
       "        [ 4.00074087e-02],\n",
       "        [ 1.84079364e-01],\n",
       "        [ 2.09303409e-01],\n",
       "        [-6.11197166e-02],\n",
       "        [ 8.40010121e-02],\n",
       "        [ 9.06665474e-02],\n",
       "        [-9.59971249e-02],\n",
       "        [-1.15392208e-01],\n",
       "        [ 1.12338856e-01],\n",
       "        [ 1.96543306e-01],\n",
       "        [-1.79114752e-02],\n",
       "        [-5.84543543e-03],\n",
       "        [-3.78066748e-01],\n",
       "        [ 1.08294770e-01],\n",
       "        [ 8.26917589e-03],\n",
       "        [-7.82805011e-02],\n",
       "        [ 1.44065693e-01],\n",
       "        [-2.63549447e-01],\n",
       "        [-3.03795010e-01],\n",
       "        [ 1.85911939e-01],\n",
       "        [-6.68107688e-01],\n",
       "        [-3.47260237e-01],\n",
       "        [ 1.95035860e-02],\n",
       "        [ 1.87089249e-01],\n",
       "        [-1.19794004e-01],\n",
       "        [ 1.64687335e-01],\n",
       "        [ 1.99618116e-01],\n",
       "        [-4.89589065e-01],\n",
       "        [-3.53071392e-02],\n",
       "        [ 1.47068396e-01],\n",
       "        [ 2.83464611e-01],\n",
       "        [ 1.95928633e-01],\n",
       "        [-1.72288135e-01],\n",
       "        [ 1.95284128e-01],\n",
       "        [-1.84496760e-01],\n",
       "        [ 1.34834215e-01],\n",
       "        [-1.35491520e-01],\n",
       "        [-7.01618552e-01],\n",
       "        [-1.36126623e-01],\n",
       "        [-5.98616451e-02],\n",
       "        [-1.73960716e-01],\n",
       "        [-5.58343157e-03],\n",
       "        [ 1.29081935e-01],\n",
       "        [-3.47146422e-01],\n",
       "        [-2.50934809e-01],\n",
       "        [ 3.89346629e-02],\n",
       "        [-7.33308554e-01],\n",
       "        [ 3.70809287e-01],\n",
       "        [ 4.44110006e-01]], dtype=float32),\n",
       " array([0.8745544], dtype=float32)]"
      ]
     },
     "execution_count": 16,
     "metadata": {},
     "output_type": "execute_result"
    }
   ],
   "source": [
    "model.get_weights()"
   ]
  },
  {
   "cell_type": "code",
   "execution_count": 17,
   "metadata": {},
   "outputs": [],
   "source": [
    "# Step 2: Helper Functions\n",
    "# Function to decode reviews\n",
    "def decode_review(encoded_review):\n",
    "    return ' '.join([reverse_word_index.get(i - 3, '?') for i in encoded_review])\n",
    "\n",
    "# Function to preprocess user input\n",
    "def preprocess_text(text):\n",
    "    words = text.lower().split()\n",
    "    encoded_review = [word_index.get(word, 2) + 3 for word in words]\n",
    "    padded_review = sequence.pad_sequences([encoded_review], maxlen=500)\n",
    "    return padded_review"
   ]
  },
  {
   "cell_type": "code",
   "execution_count": 18,
   "metadata": {},
   "outputs": [],
   "source": [
    "### Prediction  function\n",
    "\n",
    "def predict_sentiment(review):\n",
    "    preprocessed_input=preprocess_text(review)\n",
    "\n",
    "    prediction=model.predict(preprocessed_input)\n",
    "\n",
    "    sentiment = 'Positive' if prediction[0][0] > 0.5 else 'Negative'\n",
    "    \n",
    "    return sentiment, prediction[0][0]\n",
    "\n"
   ]
  },
  {
   "cell_type": "code",
   "execution_count": 21,
   "metadata": {},
   "outputs": [
    {
     "name": "stdout",
     "output_type": "stream",
     "text": [
      "\u001b[1m1/1\u001b[0m \u001b[32m━━━━━━━━━━━━━━━━━━━━\u001b[0m\u001b[37m\u001b[0m \u001b[1m0s\u001b[0m 41ms/step\n",
      "Review: This movie was fantastic! The acting was great and the plot was thrilling.\n",
      "Sentiment: Negative\n",
      "Prediction Score: 0.4769679605960846\n"
     ]
    }
   ],
   "source": [
    "# Step 4: User Input and Prediction\n",
    "# Example review for prediction\n",
    "example_review = \"This movie was fantastic! The acting was great and the plot was thrilling.\"\n",
    "# example_review = \"Very bad movie\"\n",
    "# example_review = \"This movie is good\"\n",
    "sentiment,score=predict_sentiment(example_review)\n",
    "\n",
    "print(f'Review: {example_review}')\n",
    "print(f'Sentiment: {sentiment}')\n",
    "print(f'Prediction Score: {score}')"
   ]
  },
  {
   "cell_type": "code",
   "execution_count": null,
   "metadata": {},
   "outputs": [],
   "source": []
  },
  {
   "cell_type": "code",
   "execution_count": null,
   "metadata": {},
   "outputs": [],
   "source": []
  },
  {
   "cell_type": "code",
   "execution_count": null,
   "metadata": {},
   "outputs": [],
   "source": []
  },
  {
   "cell_type": "code",
   "execution_count": null,
   "metadata": {},
   "outputs": [],
   "source": []
  }
 ],
 "metadata": {
  "kernelspec": {
   "display_name": "Python 3",
   "language": "python",
   "name": "python3"
  },
  "language_info": {
   "codemirror_mode": {
    "name": "ipython",
    "version": 3
   },
   "file_extension": ".py",
   "mimetype": "text/x-python",
   "name": "python",
   "nbconvert_exporter": "python",
   "pygments_lexer": "ipython3",
   "version": "3.12.0"
  }
 },
 "nbformat": 4,
 "nbformat_minor": 2
}
